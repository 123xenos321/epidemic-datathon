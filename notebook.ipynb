{
 "nbformat": 4,
 "nbformat_minor": 2,
 "metadata": {
  "language_info": {
   "name": "python",
   "codemirror_mode": {
    "name": "ipython",
    "version": 3
   },
   "version": "3.7.7-final"
  },
  "orig_nbformat": 2,
  "file_extension": ".py",
  "mimetype": "text/x-python",
  "name": "python",
  "npconvert_exporter": "python",
  "pygments_lexer": "ipython3",
  "version": 3,
  "kernelspec": {
   "name": "python37764bitsklearnenvconda5436ff7ed0ad486397f87a9f0fc64f4e",
   "display_name": "Python 3.7.7 64-bit ('sklearn-env': conda)"
  }
 },
 "cells": [
  {
   "cell_type": "code",
   "execution_count": null,
   "metadata": {},
   "outputs": [],
   "source": [
    "from sklearn.linear_model import LogisticRegressionCV\n",
    "import pandas as pd\n",
    "from scipy.optimize import curve_fit\n",
    "import numpy as np\n",
    "import matplotlib.pyplot as plt\n",
    "from datetime import date\n",
    "\n",
    "\n",
    "%cd \"C:\\Users\\artemiyburov\\prog\\\""
   ]
  },
  {
   "cell_type": "code",
   "execution_count": null,
   "metadata": {},
   "outputs": [],
   "source": [
    "df = pd.read_csv(\"covid-19\\data\\worldwide-aggregated.csv\")\n",
    "#df.plot(y='Confirmed', use_index = True)\n",
    "\n",
    "x = df.index       #features\n",
    "y = df['Confirmed']#labels\n",
    "x_predicted = np.arange(150)"
   ]
  },
  {
   "cell_type": "code",
   "execution_count": null,
   "metadata": {},
   "outputs": [],
   "source": [
    "def logistic_function(x,A,x0,k,off):\n",
    "    return A / (1 + np.exp(-k*(x-x0)))+off"
   ]
  },
  {
   "cell_type": "code",
   "execution_count": null,
   "metadata": {},
   "outputs": [],
   "source": [
    "popt, pcov = curve_fit(logistic_function, x, y)\n",
    "plt.scatter(x,y,label='Data')\n",
    "plt.plot(x_predicted, logistic_function(x_predicted, *popt), 'r-',label='Fitted function')\n",
    "plt.legend()"
   ]
  },
  {
   "cell_type": "code",
   "execution_count": null,
   "metadata": {},
   "outputs": [],
   "source": [
    "#create a valid filename from string\n",
    "import unicodedata\n",
    "import string\n",
    "\n",
    "valid_filename_chars = \"-_.() %s%s\" % (string.ascii_letters, string.digits)\n",
    "char_limit = 255\n",
    "\n",
    "def clean_filename(filename, whitelist=valid_filename_chars, replace=' '):\n",
    "    # replace spaces\n",
    "    for r in replace:\n",
    "        filename = filename.replace(r,'_')\n",
    "    \n",
    "    # keep only valid ascii chars\n",
    "    cleaned_filename = unicodedata.normalize('NFKD', filename).encode('ASCII', 'ignore').decode()\n",
    "    \n",
    "    # keep only whitelisted chars\n",
    "    cleaned_filename = ''.join(c for c in cleaned_filename if c in whitelist)\n",
    "    if len(cleaned_filename)>char_limit:\n",
    "        print(\"Warning, filename truncated because it was over {}. Filenames may no longer be unique\".format(char_limit))\n",
    "    return cleaned_filename[:char_limit]"
   ]
  },
  {
   "cell_type": "code",
   "execution_count": null,
   "metadata": {},
   "outputs": [],
   "source": [
    "df_by_country = pd.read_csv(\"covid-19\\data\\countries-aggregated.csv\")\n",
    "#df.loc[df_by_country[\"Country\"] == \"South Africa\"]\n",
    "for country in df_by_country.Country.unique():\n",
    "    #if country == 'United Kingdom':#replace country here or add or conditions for comparison\n",
    "    df_country = df_by_country.loc[df_by_country[\"Country\"] == country].reset_index()\n",
    "    x = df_country.index       #features\n",
    "    y = df_country['Confirmed']#labels\n",
    "    y_max = y.max()\n",
    "    y_norm = y/y_max\n",
    "    x_predicted = np.arange(200)\n",
    "    try:\n",
    "        popt, pcov = curve_fit(logistic_function, x, y_norm)\n",
    "    except:\n",
    "        continue\n",
    "    y_predicted = y_max*logistic_function(x_predicted, *popt)\n",
    "    sigma = np.sqrt(np.diagonal(pcov))#sqrt of covariance matrix\n",
    "    y_predicted_sup = y_max*logistic_function(x_predicted, *(popt+2*sigma))#2 standard dev\n",
    "    y_predicted_inf = y_max*logistic_function(x_predicted, *(popt-2*sigma))#2 standard dev\n",
    "    thickness = max(abs(y_predicted_sup-y_predicted_inf))\n",
    "    if thickness>.1 and thickness<y_max and y_max<=y_predicted.max():\n",
    "        #plot\n",
    "        fig = plt.figure()\n",
    "        plt.scatter(x,y,label='Data '+country)\n",
    "        plt.plot(x_predicted, y_predicted, 'r-',label='Total cases fit '+country)\n",
    "        plt.fill_between(x_predicted, y_predicted_inf, y_predicted_sup, color = 'black', alpha = 0.15)\n",
    "        plt.legend()\n",
    "        #save into a file\n",
    "        today = date.today()\n",
    "        fig.savefig(\"epidemic-datathon\\plots\\{}-total-case-prediction-{}\".format((clean_filename(country)), today))"
   ]
  },
  {
   "cell_type": "code",
   "execution_count": null,
   "metadata": {},
   "outputs": [],
   "source": []
  }
 ]
}